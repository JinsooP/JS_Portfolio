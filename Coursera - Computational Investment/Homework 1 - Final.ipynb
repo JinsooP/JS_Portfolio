{
 "cells": [
  {
   "cell_type": "code",
   "execution_count": 21,
   "metadata": {},
   "outputs": [],
   "source": [
    "%matplotlib inline\n",
    "\n",
    "import QSTK.qstkutil.qsdateutil as du\n",
    "import QSTK.qstkutil.tsutil as tsu\n",
    "import QSTK.qstkutil.DataAccess as da\n",
    "\n",
    "import datetime as dt\n",
    "import matplotlib.pyplot as plt\n",
    "import pandas as pd\n",
    "import numpy as np\n",
    "from cvxopt import matrix\n",
    "import cvxopt"
   ]
  },
  {
   "cell_type": "code",
   "execution_count": 2,
   "metadata": {
    "collapsed": true
   },
   "outputs": [],
   "source": [
    "def simulate(startdate, enddate, ls_symbols, ls_allocations):\n",
    "    dt_start = startdate\n",
    "    dt_end = enddate\n",
    "    dt_timeofday = dt.timedelta(hours=16)\n",
    "    ldt_timestamps = du.getNYSEdays(dt_start, dt_end, dt_timeofday)\n",
    "    c_dataobj = da.DataAccess(\"Yahoo\", cachestalltime=0)\n",
    "    ls_keys = [\"close\"]\n",
    "    ldf_data = c_dataobj.get_data(ldt_timestamps, ls_symbols, ls_keys)\n",
    "    d_data = dict(zip(ls_keys, ldf_data))\n",
    "    stock_list = []\n",
    "    for i,j in zip(ls_symbols,ls_allocations):\n",
    "        price = d_data[\"close\"][str(i)].values\n",
    "        cumu_ret = price / price[0]\n",
    "        invest = cumu_ret*float(j)\n",
    "        stock_list.append(invest)\n",
    "    Fund_invest = sum(stock_list)\n",
    "    Fund_cumu_ret = Fund_invest/Fund_invest[0]\n",
    "    Fund_daily_return = [0]\n",
    "    for i in range(1,len(Fund_cumu_ret)):\n",
    "        rt = (Fund_cumu_ret[i]/Fund_cumu_ret[i-1])-1\n",
    "        Fund_daily_return.append(rt)\n",
    "    \n",
    "    Annual_ret =  Fund_invest[-1]/ Fund_invest[0]\n",
    "    M_daily_ret = np.mean(Fund_daily_return)\n",
    "    SD_dail_ret = np.std(Fund_daily_return)\n",
    "    Sharpe_R = np.sqrt(252)*(M_daily_ret/SD_dail_ret)\n",
    "    \n",
    "    return Annual_ret, M_daily_ret, SD_dail_ret, Sharpe_R"
   ]
  },
  {
   "cell_type": "code",
   "execution_count": 4,
   "metadata": {},
   "outputs": [
    {
     "name": "stdout",
     "output_type": "stream",
     "text": [
      "(1.1960583567954952, 0.0007562855855930262, 0.009242992559366399, 1.2988933400758884)\n"
     ]
    }
   ],
   "source": [
    "ls_symbols = ['AXP', 'HPQ', 'IBM', 'HNZ']\n",
    "allocation = [0.0, 0.0, 0.0, 1.0]\n",
    "startdate = dt.datetime(2010,1,1)\n",
    "enddate = dt.datetime(2010,12, 31)\n",
    "\n",
    "a,b,c,d = simulate(startdate, enddate, ls_symbols, allocation)\n",
    "print(a,b,c,d)"
   ]
  },
  {
   "cell_type": "code",
   "execution_count": 22,
   "metadata": {
    "scrolled": true
   },
   "outputs": [],
   "source": [
    "def ret_optimal_allocation(startdate, enddate, ls_symbols):\n",
    "    dt_start = startdate\n",
    "    dt_end = enddate\n",
    "    dt_timeofday = dt.timedelta(hours=16)\n",
    "    ldt_timestamps = du.getNYSEdays(dt_start, dt_end, dt_timeofday)\n",
    "    c_dataobj = da.DataAccess(\"Yahoo\", cachestalltime=0)\n",
    "    ls_keys = [\"close\"]\n",
    "    ldf_data = c_dataobj.get_data(ldt_timestamps, ls_symbols, ls_keys)\n",
    "    d_data = dict(zip(ls_keys, ldf_data))\n",
    "    beta_list = []\n",
    "    for i in ls_symbols:\n",
    "        price = d_data[\"close\"][str(i)].values\n",
    "        ann_cumu_ret = price / price[0]\n",
    "        beta_list.append(ann_cumu_ret)\n",
    "    # minimum expected return threshold\n",
    "    r_min = 0.10\n",
    "    r_avg = matrix(np.array(beta_list))\n",
    "    # inequality constraints Gx <= h\n",
    "    # captures the constraints (avg_ret'x >= r_min) and (x >= 0)\n",
    "    n = len(ls_symbols)\n",
    "    G = matrix(np.concatenate((np.transpose(np.array(r_avg)), np.identity(n)), 0))\n",
    "    h = matrix(np.concatenate((np.ones((1,1))*r_min, np.zeros((n,1))), 0))\n",
    "    # equality constraint Ax = b; captures the constraint sum(x) == 1\n",
    "    A = matrix(1.0, (1,n))\n",
    "    b = matrix(1.0)\n",
    "    sol = solvers.qp(G, h, A, b)\n",
    "    print sol"
   ]
  },
  {
   "cell_type": "code",
   "execution_count": 23,
   "metadata": {},
   "outputs": [
    {
     "ename": "NameError",
     "evalue": "global name 'solvers' is not defined",
     "output_type": "error",
     "traceback": [
      "\u001b[1;31m---------------------------------------------------------------------------\u001b[0m",
      "\u001b[1;31mNameError\u001b[0m                                 Traceback (most recent call last)",
      "\u001b[1;32m<ipython-input-23-713d80806112>\u001b[0m in \u001b[0;36m<module>\u001b[1;34m()\u001b[0m\n\u001b[1;32m----> 1\u001b[1;33m \u001b[0mret_opt\u001b[0m \u001b[1;33m=\u001b[0m \u001b[0mret_optimal_allocation\u001b[0m\u001b[1;33m(\u001b[0m\u001b[0mstartdate\u001b[0m\u001b[1;33m,\u001b[0m \u001b[0menddate\u001b[0m\u001b[1;33m,\u001b[0m \u001b[0mls_symbols\u001b[0m\u001b[1;33m)\u001b[0m\u001b[1;33m\u001b[0m\u001b[0m\n\u001b[0m",
      "\u001b[1;32m<ipython-input-22-032cabfe4ca7>\u001b[0m in \u001b[0;36mret_optimal_allocation\u001b[1;34m(startdate, enddate, ls_symbols)\u001b[0m\n\u001b[0;32m     24\u001b[0m     \u001b[0mA\u001b[0m \u001b[1;33m=\u001b[0m \u001b[0mmatrix\u001b[0m\u001b[1;33m(\u001b[0m\u001b[1;36m1.0\u001b[0m\u001b[1;33m,\u001b[0m \u001b[1;33m(\u001b[0m\u001b[1;36m1\u001b[0m\u001b[1;33m,\u001b[0m\u001b[0mn\u001b[0m\u001b[1;33m)\u001b[0m\u001b[1;33m)\u001b[0m\u001b[1;33m\u001b[0m\u001b[0m\n\u001b[0;32m     25\u001b[0m     \u001b[0mb\u001b[0m \u001b[1;33m=\u001b[0m \u001b[0mmatrix\u001b[0m\u001b[1;33m(\u001b[0m\u001b[1;36m1.0\u001b[0m\u001b[1;33m)\u001b[0m\u001b[1;33m\u001b[0m\u001b[0m\n\u001b[1;32m---> 26\u001b[1;33m     \u001b[0msol\u001b[0m \u001b[1;33m=\u001b[0m \u001b[0msolvers\u001b[0m\u001b[1;33m.\u001b[0m\u001b[0mqp\u001b[0m\u001b[1;33m(\u001b[0m\u001b[0mG\u001b[0m\u001b[1;33m,\u001b[0m \u001b[0mh\u001b[0m\u001b[1;33m,\u001b[0m \u001b[0mA\u001b[0m\u001b[1;33m,\u001b[0m \u001b[0mb\u001b[0m\u001b[1;33m)\u001b[0m\u001b[1;33m\u001b[0m\u001b[0m\n\u001b[0m\u001b[0;32m     27\u001b[0m     \u001b[1;32mprint\u001b[0m \u001b[0msol\u001b[0m\u001b[1;33m\u001b[0m\u001b[0m\n",
      "\u001b[1;31mNameError\u001b[0m: global name 'solvers' is not defined"
     ]
    }
   ],
   "source": [
    "ret_opt = ret_optimal_allocation(startdate, enddate, ls_symbols)"
   ]
  }
 ],
 "metadata": {
  "kernelspec": {
   "display_name": "Python 2",
   "language": "python",
   "name": "python2"
  },
  "language_info": {
   "codemirror_mode": {
    "name": "ipython",
    "version": 2
   },
   "file_extension": ".py",
   "mimetype": "text/x-python",
   "name": "python",
   "nbconvert_exporter": "python",
   "pygments_lexer": "ipython2",
   "version": "2.7.15"
  }
 },
 "nbformat": 4,
 "nbformat_minor": 2
}
