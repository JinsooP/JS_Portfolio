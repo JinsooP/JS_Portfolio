{
 "cells": [
  {
   "cell_type": "code",
   "execution_count": 2,
   "metadata": {
    "collapsed": true
   },
   "outputs": [],
   "source": [
    "%matplotlib inline\n",
    "\n",
    "import QSTK.qstkutil.qsdateutil as du\n",
    "import QSTK.qstkutil.tsutil as tsu\n",
    "import QSTK.qstkutil.DataAccess as da\n",
    "\n",
    "import datetime as dt\n",
    "import matplotlib.pyplot as plt\n",
    "import pandas as pd\n",
    "import numpy as np"
   ]
  },
  {
   "cell_type": "code",
   "execution_count": 7,
   "metadata": {
    "collapsed": true
   },
   "outputs": [],
   "source": [
    "#target stock\n",
    "ls_symbols = ['GOOG','AAPL','GLD','XOM']\n",
    "ls_allocation = [0,.6,.4,0]\n",
    "\n",
    "#setting time\n",
    "dt_start = dt.datetime(2011,1,1)\n",
    "dt_end = dt.datetime(2011,12,31)\n",
    "dt_timeofday = dt.timedelta(hours=16)\n",
    "\n",
    "#get market open days\n",
    "ldt_timestamps = du.getNYSEdays(dt_start, dt_end, dt_timeofday)"
   ]
  },
  {
   "cell_type": "code",
   "execution_count": 4,
   "metadata": {
    "collapsed": true
   },
   "outputs": [],
   "source": [
    "c_dataobj = da.DataAccess(\"Yahoo\", cachestalltime=0)\n",
    "ls_keys = [\"close\"]\n",
    "\n",
    "ldf_data = c_dataobj.get_data(ldt_timestamps, ls_symbols, ls_keys)\n",
    "d_data = dict(zip(ls_keys, ldf_data))"
   ]
  },
  {
   "cell_type": "code",
   "execution_count": 20,
   "metadata": {},
   "outputs": [
    {
     "ename": "IndentationError",
     "evalue": "expected an indented block (<ipython-input-20-67d91e0f1a6d>, line 2)",
     "output_type": "error",
     "traceback": [
      "\u001b[1;36m  File \u001b[1;32m\"<ipython-input-20-67d91e0f1a6d>\"\u001b[1;36m, line \u001b[1;32m2\u001b[0m\n\u001b[1;33m    for i in ls_sybols:\u001b[0m\n\u001b[1;37m                       ^\u001b[0m\n\u001b[1;31mIndentationError\u001b[0m\u001b[1;31m:\u001b[0m expected an indented block\n"
     ]
    }
   ],
   "source": [
    "\n",
    "        "
   ]
  },
  {
   "cell_type": "code",
   "execution_count": 15,
   "metadata": {},
   "outputs": [],
   "source": [
    "AAPL_price = d_data[\"close\"][\"AAPL\"].values\n",
    "AAPL_cumu_ret = AAPL_price / AAPL_price[0]\n",
    "AAPL_invest = AAPL_cumu_ret*ls_allocation[1] \n",
    "\n",
    "GLD_price = d_data[\"close\"][\"GLD\"].values\n",
    "GLD_cumu_ret = GLD_price / GLD_price[0]\n",
    "GLD_invest = GLD_cumu_ret*ls_allocation[2]"
   ]
  },
  {
   "cell_type": "code",
   "execution_count": null,
   "metadata": {
    "collapsed": true
   },
   "outputs": [],
   "source": []
  },
  {
   "cell_type": "code",
   "execution_count": 16,
   "metadata": {},
   "outputs": [],
   "source": [
    "Fund_invest = AAPL_invest + GLD_invest\n",
    "Fund_cumu_ret = Fund_invest/Fund_invest[0]\n",
    "Fund_daily_return = [0]"
   ]
  },
  {
   "cell_type": "code",
   "execution_count": 17,
   "metadata": {
    "collapsed": true
   },
   "outputs": [],
   "source": [
    "for i in range(1,len(Fund_cumu_ret)):\n",
    "    rt = (Fund_cumu_ret[i]/Fund_cumu_ret[i-1])-1\n",
    "    Fund_daily_return.append(rt)"
   ]
  },
  {
   "cell_type": "code",
   "execution_count": 19,
   "metadata": {},
   "outputs": [
    {
     "name": "stdout",
     "output_type": "stream",
     "text": [
      "0.000712010254279142\n",
      "0.011150604991014643\n",
      "1.0136501464818135\n"
     ]
    }
   ],
   "source": [
    "M_daily_ret = np.mean(Fund_daily_return)\n",
    "print(M_daily_ret)\n",
    "SD_dail_ret = np.std(Fund_daily_return)\n",
    "print(SD_dail_ret)\n",
    "Sharpe_R = np.sqrt(252)*(M_daily_ret/SD_dail_ret)\n",
    "print(Sharpe_R)"
   ]
  }
 ],
 "metadata": {
  "kernelspec": {
   "display_name": "Python 2",
   "language": "python",
   "name": "python2"
  },
  "language_info": {
   "codemirror_mode": {
    "name": "ipython",
    "version": 2
   },
   "file_extension": ".py",
   "mimetype": "text/x-python",
   "name": "python",
   "nbconvert_exporter": "python",
   "pygments_lexer": "ipython2",
   "version": "2.7.15"
  }
 },
 "nbformat": 4,
 "nbformat_minor": 2
}
