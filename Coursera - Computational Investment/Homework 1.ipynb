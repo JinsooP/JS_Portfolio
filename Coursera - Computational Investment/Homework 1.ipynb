{
 "cells": [
  {
   "cell_type": "code",
   "execution_count": 1,
   "metadata": {
    "collapsed": true
   },
   "outputs": [],
   "source": [
    "%matplotlib inline\n",
    "\n",
    "import QSTK.qstkutil.qsdateutil as du\n",
    "import QSTK.qstkutil.tsutil as tsu\n",
    "import QSTK.qstkutil.DataAccess as da\n",
    "\n",
    "import datetime as dt\n",
    "import matplotlib.pyplot as plt\n",
    "import pandas as pd\n",
    "import numpy as np"
   ]
  },
  {
   "cell_type": "code",
   "execution_count": 2,
   "metadata": {},
   "outputs": [],
   "source": [
    "#target stock\n",
    "ls_symbols = ['GOOG','AAPL','GLD','XOM']\n",
    "\n",
    "#setting time\n",
    "dt_start = dt.datetime(2011,1,1)\n",
    "dt_end = dt.datetime(2011,12,31)\n",
    "dt_timeofday = dt.timedelta(hours=16)\n",
    "\n",
    "#get market open days\n",
    "ldt_timestamps = du.getNYSEdays(dt_start, dt_end, dt_timeofday)"
   ]
  },
  {
   "cell_type": "code",
   "execution_count": 57,
   "metadata": {},
   "outputs": [],
   "source": [
    "c_dataobj = da.DataAccess(\"Yahoo\", cachestalltime=0)\n",
    "ls_keys = [\"close\"]\n",
    "\n",
    "ldf_data = c_dataobj.get_data(ldt_timestamps, ls_symbols, ls_keys)\n",
    "d_data = dict(zip(ls_keys, ldf_data))"
   ]
  },
  {
   "cell_type": "code",
   "execution_count": 4,
   "metadata": {},
   "outputs": [],
   "source": [
    "na_price = d_data[\"close\"].values\n",
    "reg_na_price = na_price / na_price[0,:]"
   ]
  },
  {
   "cell_type": "code",
   "execution_count": 47,
   "metadata": {},
   "outputs": [],
   "source": [
    "GOOG_price = d_data[\"close\"][\"GOOG\"].values\n",
    "GOOG_price = GOOG_price / GOOG_price[0]\n",
    "AAPL_price = d_data[\"close\"][\"AAPL\"].values\n",
    "GLD_price = d_data[\"close\"][\"GLD\"].values\n",
    "XOM_price = d_data[\"close\"][\"XOM\"].values"
   ]
  },
  {
   "cell_type": "code",
   "execution_count": 53,
   "metadata": {},
   "outputs": [
    {
     "name": "stdout",
     "output_type": "stream",
     "text": [
      "0.01850950051503683\n",
      "0.0004335689514867242\n",
      "0.3718465403972414\n",
      "0.0687515512534127\n"
     ]
    }
   ],
   "source": [
    "GOOG_d_rt = [0]\n",
    "for i in range(1,len(GOOG_price)):\n",
    "    d_r = (GOOG_price[i]/GOOG_price[i-1])-1\n",
    "    GOOG_d_rt.append(d_r)\n",
    "\n",
    "GOOG_vol = np.std(GOOG_d_rt)\n",
    "GOOG_avg_dt = np.mean(GOOG_d_rt)\n",
    "GOOG_sharpe_r = np.sqrt(252)*(GOOG_avg_dt/GOOG_vol)\n",
    "GOOG_An_R = (GOOG_price[-1]/GOOG_price[0])-1\n",
    "\n",
    "print(GOOG_vol)\n",
    "print(GOOG_avg_dt)\n",
    "print(GOOG_sharpe_r)\n",
    "print(GOOG_An_R)"
   ]
  },
  {
   "cell_type": "code",
   "execution_count": 54,
   "metadata": {},
   "outputs": [
    {
     "name": "stdout",
     "output_type": "stream",
     "text": [
      "0.01645442369861847\n",
      "0.0009535732296106487\n",
      "0.9199657193646824\n",
      "0.22888225255972672\n"
     ]
    }
   ],
   "source": [
    "AAPL_d_rt = [0]\n",
    "for i in range(1,len(AAPL_price)):\n",
    "    d_r = (AAPL_price[i]/AAPL_price[i-1])-1\n",
    "    AAPL_d_rt.append(d_r)\n",
    "\n",
    "AAPL_vol = np.std(AAPL_d_rt)\n",
    "AAPL_avg_dt = np.mean(AAPL_d_rt)\n",
    "AAPL_sharpe_r = np.sqrt(252)*(AAPL_avg_dt/AAPL_vol)\n",
    "AAPL_An_R = (AAPL_price[-1]/AAPL_price[0])-1\n",
    "print(AAPL_vol)\n",
    "print(AAPL_avg_dt)\n",
    "print(AAPL_sharpe_r)\n",
    "print(AAPL_An_R)"
   ]
  },
  {
   "cell_type": "code",
   "execution_count": 55,
   "metadata": {},
   "outputs": [
    {
     "name": "stdout",
     "output_type": "stream",
     "text": [
      "0.012870631904885577\n",
      "0.000466420385482652\n",
      "0.575278209578607\n",
      "0.10137681159420286\n"
     ]
    }
   ],
   "source": [
    "GLD_d_rt = [0]\n",
    "for i in range(1,len(GLD_price)):\n",
    "    d_r = (GLD_price[i]/GLD_price[i-1])-1\n",
    "    GLD_d_rt.append(d_r)\n",
    "\n",
    "GLD_vol = np.std(GLD_d_rt)\n",
    "GLD_avg_dt = np.mean(GLD_d_rt)\n",
    "GLD_sharpe_r = np.sqrt(252)*(GLD_avg_dt/GLD_vol)\n",
    "GLD_An_R = (GLD_price[-1]/GLD_price[0])-1\n",
    "print(GLD_vol)\n",
    "print(GLD_avg_dt)\n",
    "print(GLD_sharpe_r)\n",
    "print(GLD_An_R)"
   ]
  },
  {
   "cell_type": "code",
   "execution_count": 56,
   "metadata": {},
   "outputs": [
    {
     "name": "stdout",
     "output_type": "stream",
     "text": [
      "0.01589744895741593\n",
      "0.000728918993089925\n",
      "0.7278671138218998\n",
      "0.163844969917448\n"
     ]
    }
   ],
   "source": [
    "XOM_d_rt = [0]\n",
    "for i in range(1,len(XOM_price)):\n",
    "    d_r = (XOM_price[i]/XOM_price[i-1])-1\n",
    "    XOM_d_rt.append(d_r)\n",
    "\n",
    "XOM_vol = np.std(XOM_d_rt)\n",
    "XOM_avg_dt = np.mean(XOM_d_rt)\n",
    "XOM_sharpe_r = np.sqrt(252)*(XOM_avg_dt/XOM_vol)\n",
    "XOM_An_R = (XOM_price[-1]/XOM_price[0])-1\n",
    "print(XOM_vol)\n",
    "print(XOM_avg_dt)\n",
    "print(XOM_sharpe_r)\n",
    "print(XOM_An_R)"
   ]
  },
  {
   "cell_type": "code",
   "execution_count": 64,
   "metadata": {},
   "outputs": [
    {
     "name": "stdout",
     "output_type": "stream",
     "text": [
      "0.17788007617351717\n",
      "0.00075871209195945\n",
      "0.015020906981125313\n",
      "0.7820907154502523\n"
     ]
    }
   ],
   "source": [
    "annual_r = (0.6*AAPL_An_R) + (0.4*GLD_An_R)\n",
    "av_d_r = (0.6*AAPL_avg_dt) + (0.4*GLD_avg_dt)\n",
    "std_d_r = (0.6*AAPL_vol) + (0.4*GLD_vol)\n",
    "shr = (0.6*AAPL_sharpe_r) + (0.4*GLD_sharpe_r)\n",
    "print(annual_r)\n",
    "print(av_d_r)\n",
    "print(std_d_r)\n",
    "print(shr)"
   ]
  }
 ],
 "metadata": {
  "kernelspec": {
   "display_name": "Python 2",
   "language": "python",
   "name": "python2"
  },
  "language_info": {
   "codemirror_mode": {
    "name": "ipython",
    "version": 2
   },
   "file_extension": ".py",
   "mimetype": "text/x-python",
   "name": "python",
   "nbconvert_exporter": "python",
   "pygments_lexer": "ipython2",
   "version": "2.7.15"
  }
 },
 "nbformat": 4,
 "nbformat_minor": 2
}
