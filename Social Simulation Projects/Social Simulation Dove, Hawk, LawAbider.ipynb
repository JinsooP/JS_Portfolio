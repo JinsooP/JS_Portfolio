{
 "cells": [
  {
   "cell_type": "markdown",
   "metadata": {},
   "source": [
    "# Social Simulation: Dove, Hawk, LawAbider"
   ]
  },
  {
   "cell_type": "markdown",
   "metadata": {},
   "source": [
    "This is a model of the population dynamics of three groups adopting dove, hawk and law-abider strategies. \n",
    "\n",
    "The model is taken from Chapter 3 of Simulation for the Social Scientist, by Gilbert and Troitzsch.\n",
    "\n",
    "The author tried “to develop a formal model of the Hobbesian state of nature from the perspective of bioeconomics”\n",
    "\n",
    "Below are the basic rules"
   ]
  },
  {
   "cell_type": "markdown",
   "metadata": {},
   "source": [
    "1. the dove never tries to get others’ possessions. He waits until they give\n",
    "up their resource and he himself abandons his resource if attacked. If\n",
    "two doves compete for the same resource one gets it with equal probability.\n",
    "2. the hawk always tries to get others’ resources by means of aggression\n",
    "and gives up his resources only if seriously injured.\n",
    "3. the law-abider never tries to get others’ resources. He waits until they\n",
    "give up their resources. He defends his resources and losses them only\n",
    "if defeated\n",
    "\n",
    "\n",
    "\n"
   ]
  },
  {
   "cell_type": "code",
   "execution_count": 5,
   "metadata": {
    "collapsed": true
   },
   "outputs": [],
   "source": [
    "#initial parameter settings\n",
    "utility_of_possession = 10\n",
    "cost_dove = 3\n",
    "cost_hawk = 20\n",
    "\n",
    "#initial population settings\n",
    "init_percentage_Hawk = 0.99\n",
    "init_percentage_Dove = (1-init_percentage_Hawk)/2\n",
    "init_percentage_Law_Abider = (1-init_percentage_Hawk)/2"
   ]
  },
  {
   "cell_type": "code",
   "execution_count": 6,
   "metadata": {},
   "outputs": [
    {
     "name": "stdout",
     "output_type": "stream",
     "text": [
      "0.029328250000000028\n",
      "0.9535184999999999\n",
      "0.017153250000000016\n",
      "time_period:1\n",
      "0.1564789458378437\n",
      "0.7897016366459397\n",
      "0.05381941751621649\n",
      "time_period:2\n",
      "0.4892781609791539\n",
      "0.4034200190393104\n",
      "0.10730181998153562\n",
      "time_period:3\n",
      "0.010711742333946339\n",
      "0.839101889045236\n",
      "0.15018636862081758\n",
      "time_period:4\n",
      "0.047966291048573244\n",
      "0.49790699649104103\n",
      "0.4541267124603856\n",
      "time_period:5\n",
      "no\n"
     ]
    }
   ],
   "source": [
    "Dove_pop = init_percentage_Dove\n",
    "Hawk_pop = init_percentage_Hawk\n",
    "Law_pop = init_percentage_Law_Abider\n",
    "#engagement rules, or strategies of each players\n",
    "##Later should make it as a matrix\n",
    "t = 10\n",
    "for i in range(t):\n",
    "    if Dove_pop > 0 and Hawk_pop > 0 and Law_pop > 0:\n",
    "        #row 1 - Doves\n",
    "        rdd = utility_of_possession/2-cost_dove\n",
    "        rdh = 0\n",
    "        rdl = rdd/2\n",
    "        #row 2 - Hawks\n",
    "        rhd = utility_of_possession\n",
    "        rhh = (utility_of_possession - cost_hawk)/2            \n",
    "        rhl = (rhh + utility_of_possession)/2\n",
    "        \n",
    "        #row 3 - Law_abiders\n",
    "        rld = (rdd + utility_of_possession)/2\n",
    "        rlh = rhh/2\n",
    "        rll = utility_of_possession/2\n",
    "\n",
    "            # yield_matrix\n",
    "        yield_dove = (Dove_pop*rdd+Hawk_pop*rdh+Law_pop*rdl)*Dove_pop\n",
    "        yield_hawk = (Dove_pop*rhd+Hawk_pop*rhh+Law_pop*rhl)*Hawk_pop\n",
    "        yield_lawa = (Dove_pop*rld+Hawk_pop*rlh+Law_pop*rll)*Law_pop\n",
    "        yield_sum = yield_dove + yield_hawk + yield_lawa\n",
    "\n",
    "        d_dove = Dove_pop*yield_sum-yield_dove\n",
    "        d_lawa = yield_lawa-Law_pop*yield_sum\n",
    "        Dove_pop = Dove_pop+(-d_dove)\n",
    "        Hawk_pop = Hawk_pop+(d_dove - d_lawa)\n",
    "        Law_pop = Law_pop+(d_lawa)\n",
    "        if Dove_pop > 0 and Hawk_pop > 0 and Law_pop > 0:\n",
    "            print(Dove_pop)\n",
    "            print(Hawk_pop)\n",
    "            print(Law_pop)\n",
    "            print(\"time_period:\" + str(i+1))\n",
    "        else:\n",
    "            print(\"no\")\n",
    "            break"
   ]
  }
 ],
 "metadata": {
  "kernelspec": {
   "display_name": "Python 3",
   "language": "python",
   "name": "python3"
  },
  "language_info": {
   "codemirror_mode": {
    "name": "ipython",
    "version": 3
   },
   "file_extension": ".py",
   "mimetype": "text/x-python",
   "name": "python",
   "nbconvert_exporter": "python",
   "pygments_lexer": "ipython3",
   "version": "3.6.3"
  }
 },
 "nbformat": 4,
 "nbformat_minor": 2
}
