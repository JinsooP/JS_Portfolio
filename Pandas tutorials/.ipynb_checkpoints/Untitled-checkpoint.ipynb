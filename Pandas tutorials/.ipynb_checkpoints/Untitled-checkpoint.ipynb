{
 "cells": [
  {
   "cell_type": "code",
   "execution_count": 1,
   "metadata": {
    "collapsed": true
   },
   "outputs": [],
   "source": [
    "%matplotlib inline  \n",
    "\n",
    "import pandas as pd\n",
    "import numpy as np\n",
    "import matplotlib.pyplot as plt"
   ]
  },
  {
   "cell_type": "code",
   "execution_count": 32,
   "metadata": {
    "scrolled": false
   },
   "outputs": [],
   "source": [
    "df = pd.read_csv(\"messy_stock_data.txt\", delimiter=' ', header=3, comment=\"#\")"
   ]
  },
  {
   "cell_type": "code",
   "execution_count": 33,
   "metadata": {
    "scrolled": true
   },
   "outputs": [
    {
     "name": "stdout",
     "output_type": "stream",
     "text": [
      "     name     Jan     Feb     Mar     Apr     May     Jun     Jul     Aug  \\\n",
      "0     IBM  156.08  160.01  159.81  165.22  172.25  167.15  164.75  152.77   \n",
      "1    MSFT   45.51   43.08   42.13   43.47   47.53   45.96   45.61   45.51   \n",
      "2  GOOGLE  512.42  537.99  559.72  540.50  535.24  532.92  590.09  636.84   \n",
      "3   APPLE  110.64  125.43  125.97  127.29  128.76  127.81  125.34  113.39   \n",
      "\n",
      "      Sep     Oct     Nov     Dec  \n",
      "0  145.36  146.11  137.21  137.96  \n",
      "1   43.56   48.70   53.88   55.40  \n",
      "2  617.93  663.59  735.39  755.35  \n",
      "3  112.80  113.36  118.16  111.73  \n"
     ]
    }
   ],
   "source": [
    "print(df)"
   ]
  },
  {
   "cell_type": "code",
   "execution_count": 79,
   "metadata": {
    "scrolled": true
   },
   "outputs": [],
   "source": [
    "df2 = pd.melt(df, id_vars=[\"name\"], var_name='month', value_name='stock')\n",
    "df2[\"number\"] = [1,1,1,1,2,2,2,2,3,3,3,3,4,4,4,4,5,5,5,5,6,6,6,6,7,7,7,7,8,8,8,8,9,9,9,9,10,10,10,10,11,11,11,11,12,12,12,12]\n",
    "df2 = df2[df2.columns.drop(\"month\")]"
   ]
  },
  {
   "cell_type": "code",
   "execution_count": 80,
   "metadata": {},
   "outputs": [
    {
     "data": {
      "text/html": [
       "<div>\n",
       "<style>\n",
       "    .dataframe thead tr:only-child th {\n",
       "        text-align: right;\n",
       "    }\n",
       "\n",
       "    .dataframe thead th {\n",
       "        text-align: left;\n",
       "    }\n",
       "\n",
       "    .dataframe tbody tr th {\n",
       "        vertical-align: top;\n",
       "    }\n",
       "</style>\n",
       "<table border=\"1\" class=\"dataframe\">\n",
       "  <thead>\n",
       "    <tr>\n",
       "      <th></th>\n",
       "      <th colspan=\"4\" halign=\"left\">stock</th>\n",
       "    </tr>\n",
       "    <tr>\n",
       "      <th>name</th>\n",
       "      <th>APPLE</th>\n",
       "      <th>GOOGLE</th>\n",
       "      <th>IBM</th>\n",
       "      <th>MSFT</th>\n",
       "    </tr>\n",
       "    <tr>\n",
       "      <th>number</th>\n",
       "      <th></th>\n",
       "      <th></th>\n",
       "      <th></th>\n",
       "      <th></th>\n",
       "    </tr>\n",
       "  </thead>\n",
       "  <tbody>\n",
       "    <tr>\n",
       "      <th>1</th>\n",
       "      <td>110.64</td>\n",
       "      <td>512.42</td>\n",
       "      <td>156.08</td>\n",
       "      <td>45.51</td>\n",
       "    </tr>\n",
       "    <tr>\n",
       "      <th>2</th>\n",
       "      <td>125.43</td>\n",
       "      <td>537.99</td>\n",
       "      <td>160.01</td>\n",
       "      <td>43.08</td>\n",
       "    </tr>\n",
       "    <tr>\n",
       "      <th>3</th>\n",
       "      <td>125.97</td>\n",
       "      <td>559.72</td>\n",
       "      <td>159.81</td>\n",
       "      <td>42.13</td>\n",
       "    </tr>\n",
       "    <tr>\n",
       "      <th>4</th>\n",
       "      <td>127.29</td>\n",
       "      <td>540.50</td>\n",
       "      <td>165.22</td>\n",
       "      <td>43.47</td>\n",
       "    </tr>\n",
       "    <tr>\n",
       "      <th>5</th>\n",
       "      <td>128.76</td>\n",
       "      <td>535.24</td>\n",
       "      <td>172.25</td>\n",
       "      <td>47.53</td>\n",
       "    </tr>\n",
       "    <tr>\n",
       "      <th>6</th>\n",
       "      <td>127.81</td>\n",
       "      <td>532.92</td>\n",
       "      <td>167.15</td>\n",
       "      <td>45.96</td>\n",
       "    </tr>\n",
       "    <tr>\n",
       "      <th>7</th>\n",
       "      <td>125.34</td>\n",
       "      <td>590.09</td>\n",
       "      <td>164.75</td>\n",
       "      <td>45.61</td>\n",
       "    </tr>\n",
       "    <tr>\n",
       "      <th>8</th>\n",
       "      <td>113.39</td>\n",
       "      <td>636.84</td>\n",
       "      <td>152.77</td>\n",
       "      <td>45.51</td>\n",
       "    </tr>\n",
       "    <tr>\n",
       "      <th>9</th>\n",
       "      <td>112.80</td>\n",
       "      <td>617.93</td>\n",
       "      <td>145.36</td>\n",
       "      <td>43.56</td>\n",
       "    </tr>\n",
       "    <tr>\n",
       "      <th>10</th>\n",
       "      <td>113.36</td>\n",
       "      <td>663.59</td>\n",
       "      <td>146.11</td>\n",
       "      <td>48.70</td>\n",
       "    </tr>\n",
       "    <tr>\n",
       "      <th>11</th>\n",
       "      <td>118.16</td>\n",
       "      <td>735.39</td>\n",
       "      <td>137.21</td>\n",
       "      <td>53.88</td>\n",
       "    </tr>\n",
       "    <tr>\n",
       "      <th>12</th>\n",
       "      <td>111.73</td>\n",
       "      <td>755.35</td>\n",
       "      <td>137.96</td>\n",
       "      <td>55.40</td>\n",
       "    </tr>\n",
       "  </tbody>\n",
       "</table>\n",
       "</div>"
      ],
      "text/plain": [
       "         stock                       \n",
       "name     APPLE  GOOGLE     IBM   MSFT\n",
       "number                               \n",
       "1       110.64  512.42  156.08  45.51\n",
       "2       125.43  537.99  160.01  43.08\n",
       "3       125.97  559.72  159.81  42.13\n",
       "4       127.29  540.50  165.22  43.47\n",
       "5       128.76  535.24  172.25  47.53\n",
       "6       127.81  532.92  167.15  45.96\n",
       "7       125.34  590.09  164.75  45.61\n",
       "8       113.39  636.84  152.77  45.51\n",
       "9       112.80  617.93  145.36  43.56\n",
       "10      113.36  663.59  146.11  48.70\n",
       "11      118.16  735.39  137.21  53.88\n",
       "12      111.73  755.35  137.96  55.40"
      ]
     },
     "execution_count": 80,
     "metadata": {},
     "output_type": "execute_result"
    }
   ],
   "source": [
    "df3 = df2.pivot('number','name')\n",
    "df3"
   ]
  },
  {
   "cell_type": "code",
   "execution_count": 81,
   "metadata": {
    "scrolled": true
   },
   "outputs": [
    {
     "data": {
      "text/plain": [
       "[<matplotlib.lines.Line2D at 0x1ef75bdbf98>,\n",
       " <matplotlib.lines.Line2D at 0x1ef75be5128>,\n",
       " <matplotlib.lines.Line2D at 0x1ef75be5278>,\n",
       " <matplotlib.lines.Line2D at 0x1ef75be53c8>]"
      ]
     },
     "execution_count": 81,
     "metadata": {},
     "output_type": "execute_result"
    },
    {
     "data": {
      "image/png": "[encoded data removed]",
      "text/plain": [
       "<matplotlib.figure.Figure at 0x1ef75a59470>"
      ]
     },
     "metadata": {},
     "output_type": "display_data"
    }
   ],
   "source": [
    "plt.plot(df3)"
   ]
  }
 ],
 "metadata": {
  "kernelspec": {
   "display_name": "Python 3",
   "language": "python",
   "name": "python3"
  },
  "language_info": {
   "codemirror_mode": {
    "name": "ipython",
    "version": 3
   },
   "file_extension": ".py",
   "mimetype": "text/x-python",
   "name": "python",
   "nbconvert_exporter": "python",
   "pygments_lexer": "ipython3",
   "version": "3.6.3"
  }
 },
 "nbformat": 4,
 "nbformat_minor": 2
}
