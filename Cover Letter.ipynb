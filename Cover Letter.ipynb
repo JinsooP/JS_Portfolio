{
 "cells": [
  {
   "cell_type": "markdown",
   "metadata": {},
   "source": [
    "# Cover Letter\n",
    "\n",
    "## Jin Soo Park"
   ]
  },
  {
   "cell_type": "markdown",
   "metadata": {},
   "source": [
    "### KBS Investigtive News Team"
   ]
  },
  {
   "cell_type": "markdown",
   "metadata": {},
   "source": [
    "The basic fact-gathering process of Journalism follows the same process of a market research done by private firms. \n",
    "\n",
    "I am currently working as a full-time freelance data-researcher/assitant for Korea Broadcasting System(KBS), Department of Investigative Journalism. \n",
    "\n",
    "During my time here, I have trained myself how to search through vast data for insight, and how to explain it back to others in an easier way.\n",
    "\n",
    "On every topic that I have investigated (i.e. ADR, embezzlements, lobbyists, etc), I had to master the topic in hast. \n",
    "\n",
    "Once I got a grip of it, I could then search for more relevant data and documents from various sources. \n",
    "\n",
    "After summarizing the collected data, I would brief it to my senior journalist with my own insight included."
   ]
  },
  {
   "cell_type": "markdown",
   "metadata": {},
   "source": [
    "KBS Investigative News Team\n",
    "\n",
    "https://news.kbs.co.kr/news/list.do?mcd=1016#1"
   ]
  },
  {
   "cell_type": "markdown",
   "metadata": {},
   "source": [
    "### Academics - Media Communications"
   ]
  },
  {
   "cell_type": "markdown",
   "metadata": {},
   "source": [
    "Academically, I have studied Media Communications, which deals with the rapid changes in the tele-broadcasting industry environment and its impact on human society. \n",
    "\n",
    "My focus of study has been the influence of media on public opinion, based on a cognitive psychology approach. \n",
    "\n",
    "Thus, I have a strong background in quantitative research, dealing with surveys and data analysis. I am familiar with SPSS software and Excel.\n",
    "\n",
    "I have developed profound interest in these quantitative approaches, which led me to study and implement vigorously what I have learned. \n",
    "\n",
    "As an undergraduate, I have written my own academic paper in order to empirically explain the phenomenon of AI phobia."
   ]
  },
  {
   "cell_type": "markdown",
   "metadata": {},
   "source": [
    "This paper earned 2nd place in an academic paper contest. Building on from this success, another paper is currently under revision for submission to an academic journal."
   ]
  },
  {
   "cell_type": "markdown",
   "metadata": {},
   "source": [
    "Is AI Phobia Real Exploring effect of AI phobia in acceptance of AI technology-based services\n",
    "\n",
    "https://drive.google.com/file/d/17APzjL2HuHoWUJt676LC01lNLS23ksfW/view?usp=sharing"
   ]
  },
  {
   "cell_type": "markdown",
   "metadata": {},
   "source": [
    "### Programming Skills"
   ]
  },
  {
   "cell_type": "markdown",
   "metadata": {},
   "source": [
    "My interest in quantitative research has also encouraged me to take advanced statistical courses. \n",
    "\n",
    "This ultimately led to learning new research methodologies such as machine learning using Python programming. \n",
    "\n",
    "Python also became a handy tool during my time in the investigative journalism team, when I had to scrape vast amount of data from the web.\n",
    "\n",
    "Automation skills is key in today’s research industry, and I have a great understanding/experience in using that skill."
   ]
  },
  {
   "cell_type": "markdown",
   "metadata": {},
   "source": [
    "### Communication Skills & Team work"
   ]
  },
  {
   "cell_type": "markdown",
   "metadata": {},
   "source": [
    "When involved in a team effort, I am a competent and willing participant. \n",
    "\n",
    "News broadcasts require perfect teamwork between reporters, researchers, and support crews. \n",
    "\n",
    "In a newsroom environment, the devil is in the limited deadlines that puts everyone into pressure. \n",
    "\n",
    "This environment helped me develop effective communication skills and work ethics for a successful team-project under strong pressure. "
   ]
  },
  {
   "cell_type": "markdown",
   "metadata": {},
   "source": [
    "Adding on to this, I have strong command in English language and high understanding of Anglo-American cultural context.\n",
    "\n",
    "I went to study abroad in Canada when I was just 10. \n",
    "\n",
    "Although long time has passed since then, this experience in my formative years have allowed me to be confident and effective at a multi-cultural environment."
   ]
  }
 ],
 "metadata": {
  "kernelspec": {
   "display_name": "Python 3",
   "language": "python",
   "name": "python3"
  },
  "language_info": {
   "codemirror_mode": {
    "name": "ipython",
    "version": 3
   },
   "file_extension": ".py",
   "mimetype": "text/x-python",
   "name": "python",
   "nbconvert_exporter": "python",
   "pygments_lexer": "ipython3",
   "version": "3.6.3"
  }
 },
 "nbformat": 4,
 "nbformat_minor": 2
}
