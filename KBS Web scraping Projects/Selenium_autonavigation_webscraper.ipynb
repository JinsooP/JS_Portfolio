{
 "cells": [
  {
   "cell_type": "code",
   "execution_count": null,
   "metadata": {
    "collapsed": true
   },
   "outputs": [],
   "source": [
    "from selenium import webdriver\n",
    "import pandas as pd"
   ]
  },
  {
   "cell_type": "code",
   "execution_count": null,
   "metadata": {
    "collapsed": true
   },
   "outputs": [],
   "source": [
    "filename = \"탐사보도부_webscrape.xlsx\"\n",
    "df = pd.read_excel(filename)"
   ]
  },
  {
   "cell_type": "code",
   "execution_count": null,
   "metadata": {
    "collapsed": true
   },
   "outputs": [],
   "source": [
    "driver = webdriver.Chrome('/Users/KBS/Desktop/chromedriver/chromedriver')\n",
    "\n",
    "driver.implicitly_wait(3)\n",
    "driver.get('http://www.training.go.kr/pub/overseas/OutTrainResultReport.do?menuId=FROE010101')"
   ]
  },
  {
   "cell_type": "code",
   "execution_count": null,
   "metadata": {
    "collapsed": true
   },
   "outputs": [],
   "source": [
    "list_1 = []\n",
    "list_2 = []\n",
    "list_3 = []\n",
    "list_4 = []\n",
    "list_5 = []\n",
    "list_6 = []\n",
    "list_7 = []\n",
    "list_8 = []\n",
    "name_list = []\n",
    "url_list = []"
   ]
  },
  {
   "cell_type": "code",
   "execution_count": null,
   "metadata": {
    "collapsed": true
   },
   "outputs": [],
   "source": [
    "def get_content(a):\n",
    "    for j in range(1,int(a+1)):\n",
    "        driver.find_element_by_xpath(\"//*[@id='sub_content']/div/table/tbody/tr[\" +str(j)+ \"]/td[4]/a\").click()\n",
    "\n",
    "        domain = driver.find_element_by_xpath(\"//*[@id='sub_content']/div/form/table/tbody/tr[1]/td[1]\").get_attribute(\"innerHTML\")\n",
    "        country = driver.find_element_by_xpath(\"//*[@id='sub_content']/div/form/table/tbody/tr[1]/td[2]\").get_attribute(\"innerHTML\")\n",
    "        institution = driver.find_element_by_xpath(\"//*[@id='sub_content']/div/form/table/tbody/tr[2]/td[1]\").get_attribute(\"innerHTML\")\n",
    "        date = driver.find_element_by_xpath(\"//*[@id='sub_content']/div/form/table/tbody/tr[2]/td[2]\").get_attribute(\"innerHTML\")\n",
    "        title = driver.find_element_by_xpath(\"//*[@id='sub_content']/div/form/table/tbody/tr[3]/td\").text.strip()\n",
    "        report = driver.find_element_by_xpath(\"//*[@id='sub_content']/div/form/table/tbody/tr[4]/td\").get_attribute(\"innerHTML\")\n",
    "        recom = report = driver.find_element_by_xpath(\"//*[@id='sub_content']/div/form/table/tbody/tr[5]/td\").text.strip()\n",
    "        content = driver.find_element_by_xpath(\"//*[@id='sub_content']/div/form/table/tbody/tr[6]/td\").get_attribute(\"innerHTML\")\n",
    "                \n",
    "        driver.implicitly_wait(10)\n",
    "        list_1.append(domain)\n",
    "        list_2.append(country)\n",
    "        list_3.append(institution)\n",
    "        list_4.append(date)\n",
    "        list_5.append(title)\n",
    "        list_6.append(content)\n",
    "        list_7.append(report)\n",
    "        list_8.append(recom)\n",
    "        driver.back()"
   ]
  },
  {
   "cell_type": "code",
   "execution_count": null,
   "metadata": {
    "collapsed": true
   },
   "outputs": [],
   "source": [
    "def get_name(a):\n",
    "    for j in range(1,int(a+1)):\n",
    "        name = driver.find_element_by_xpath(\"//*[@id='sub_content']/div/table/tbody/tr[\" +str(j)+ \"]/td[5]\").get_attribute(\"innerHTML\")\n",
    "        name_list.append(name)"
   ]
  },
  {
   "cell_type": "code",
   "execution_count": null,
   "metadata": {
    "collapsed": true
   },
   "outputs": [],
   "source": [
    "def get_url(a):\n",
    "    for j in range(1,int(a+1)):\n",
    "        url = driver.find_element_by_xpath(\"//*[@id='sub_content']/div/table/tbody/tr[\" +str(j)+ \"]/td[4]/a\").get_attribute(\"href\")\n",
    "        url_list.append(url)"
   ]
  },
  {
   "cell_type": "code",
   "execution_count": null,
   "metadata": {},
   "outputs": [],
   "source": [
    "for x in range(12,26):\n",
    "    get_name(6)\n",
    "    get_url(6)\n",
    "    get_content(6)\n",
    "    for i in range(4,13):\n",
    "        driver.find_element_by_xpath(\"//*[@id='paging_div']/ul/li[\" +str(i)+ \"]/a\").click()\n",
    "        driver.implicitly_wait(5)\n",
    "        get_name(6)\n",
    "        get_url(6)\n",
    "        get_content(6)\n",
    "    driver.find_element_by_xpath(\"//*[@id='paging_div']/ul/li[13]/a/img\").click()\n",
    "    driver.implicitly_wait(10)"
   ]
  },
  {
   "cell_type": "code",
   "execution_count": null,
   "metadata": {
    "scrolled": true
   },
   "outputs": [],
   "source": [
    "print(len(list_1))\n",
    "print(len(list_2))\n",
    "print(len(list_3))\n",
    "print(len(list_4))\n",
    "print(len(list_5))\n",
    "print(len(list_6))\n",
    "print(len(list_7))\n",
    "print(len(list_8))\n",
    "print(len(name_list))\n",
    "print(len(url_list))"
   ]
  },
  {
   "cell_type": "code",
   "execution_count": null,
   "metadata": {
    "collapsed": true
   },
   "outputs": [],
   "source": [
    "get_name(6)\n",
    "get_url(6)\n",
    "get_content(6)"
   ]
  },
  {
   "cell_type": "code",
   "execution_count": null,
   "metadata": {},
   "outputs": [],
   "source": [
    "name_list[-1]"
   ]
  },
  {
   "cell_type": "code",
   "execution_count": null,
   "metadata": {
    "collapsed": true
   },
   "outputs": [],
   "source": [
    "df[\"훈련과정\"] = list_1\n",
    "df[\"훈련국\"] = list_2\n",
    "df[\"훈련기관\"] = list_3\n",
    "df[\"훈련기간\"] = list_4\n",
    "df[\"훈련과제명\"] = list_5\n",
    "df[\"훈련내용\"] = list_6\n",
    "df[\"보고서제목\"] = list_7\n",
    "df[\"추천\"] = list_8\n",
    "df[\"url\"] = url_list\n",
    "df[\"등록자\"] = name_list\n",
    "\n",
    "writer = pd.ExcelWriter('output.xlsx',options={'strings_to_urls': False})\n",
    "df.to_excel(writer,'Sheet1')\n",
    "writer.save()"
   ]
  }
 ],
 "metadata": {
  "kernelspec": {
   "display_name": "Python 3",
   "language": "python",
   "name": "python3"
  },
  "language_info": {
   "codemirror_mode": {
    "name": "ipython",
    "version": 3
   },
   "file_extension": ".py",
   "mimetype": "text/x-python",
   "name": "python",
   "nbconvert_exporter": "python",
   "pygments_lexer": "ipython3",
   "version": "3.6.3"
  }
 },
 "nbformat": 4,
 "nbformat_minor": 2
}
